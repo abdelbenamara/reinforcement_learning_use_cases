{
 "cells": [
  {
   "cell_type": "markdown",
   "id": "a0a98433",
   "metadata": {
    "collapsed": true
   },
   "source": [
    "# Breakout"
   ]
  },
  {
   "cell_type": "code",
   "execution_count": null,
   "id": "0227b679",
   "metadata": {},
   "outputs": [],
   "source": [
    "!pip install ale-py==0.7.4\n",
    "!pip install stable-baselines3[extra]\n",
    "!pip install torch torchvision torchaudio\n",
    "!pip install pyglet"
   ]
  },
  {
   "cell_type": "code",
   "execution_count": null,
   "id": "878fbe6d",
   "metadata": {},
   "outputs": [],
   "source": [
    "import gym\n",
    "import os                                                        # System (to save models and logs)\n",
    "from stable_baselines3 import A2C                                # Import the algorithm we'll use\n",
    "from stable_baselines3.common.env_util import make_atari_env     # Create multiple env\n",
    "from stable_baselines3.common.vec_env import VecFrameStack       # Train on them at the same time\n",
    "from stable_baselines3.common.evaluation import evaluate_policy  # Test the model"
   ]
  },
  {
   "cell_type": "markdown",
   "id": "d05fd1c9",
   "metadata": {},
   "source": [
    "## Execute 5 rounds of the game with random actions"
   ]
  },
  {
   "cell_type": "code",
   "execution_count": null,
   "id": "f1fdc2fb",
   "metadata": {},
   "outputs": [],
   "source": [
    "env = gym.make('Breakout-v0')\n",
    "rounds = 5\n",
    "for round in range(1, rounds+1):\n",
    "    state = env.reset()\n",
    "    done = False\n",
    "    score = 0\n",
    "\n",
    "    while not done:\n",
    "        action = env.action_space.sample()\n",
    "        n_state, reward, done, infos = env.step(action)\n",
    "        score += reward\n",
    "    print('Round: {}, Score: {}'.format(round, score))\n",
    "env.close()"
   ]
  },
  {
   "cell_type": "markdown",
   "id": "15c4a030",
   "metadata": {},
   "source": [
    "## Use vectors to train the model with multiple environments at the same time"
   ]
  },
  {
   "cell_type": "code",
   "execution_count": null,
   "id": "11217f8b",
   "metadata": {},
   "outputs": [],
   "source": [
    "env = make_atari_env('Breakout-v0', n_envs=4, seed=0)\n",
    "env = VecFrameStack(env, n_stack=4)"
   ]
  },
  {
   "cell_type": "markdown",
   "id": "5a913ead",
   "metadata": {},
   "source": [
    "## Declare the model and directory to save ths logs"
   ]
  },
  {
   "cell_type": "code",
   "execution_count": null,
   "id": "7b6fa31f",
   "metadata": {},
   "outputs": [],
   "source": [
    "a2c_path = os.path.join('Training', 'Saved Models', 'A2C_Breakout-4M')"
   ]
  },
  {
   "cell_type": "code",
   "execution_count": null,
   "id": "ce46864f",
   "metadata": {},
   "outputs": [],
   "source": [
    "log_path = os.path.join('Training', 'Logs')\n",
    "model = A2C('CnnPolicy', env, verbose = 1, tensorboard_log=log_path)"
   ]
  },
  {
   "cell_type": "markdown",
   "id": "4b5729a1",
   "metadata": {},
   "source": [
    "## Model's learning"
   ]
  },
  {
   "cell_type": "code",
   "execution_count": null,
   "id": "71538579",
   "metadata": {},
   "outputs": [],
   "source": [
    "model.learn(total_timesteps=4000000)"
   ]
  },
  {
   "cell_type": "markdown",
   "id": "393fdb2b",
   "metadata": {},
   "source": [
    "## Saving the model"
   ]
  },
  {
   "cell_type": "code",
   "execution_count": null,
   "id": "cc61d84a",
   "metadata": {},
   "outputs": [],
   "source": [
    "model.save(a2c_path)\n",
    "#del model"
   ]
  },
  {
   "cell_type": "markdown",
   "id": "c30fd945",
   "metadata": {},
   "source": [
    "## Loading a model"
   ]
  },
  {
   "cell_type": "code",
   "execution_count": null,
   "id": "657226bc",
   "metadata": {},
   "outputs": [],
   "source": [
    "model = A2C.load(os.path.join('Training', 'Saved Models', 'A2C_Breakout-4M'), env)"
   ]
  },
  {
   "cell_type": "markdown",
   "id": "882e66ed",
   "metadata": {},
   "source": [
    "## Test the model"
   ]
  },
  {
   "cell_type": "markdown",
   "id": "464678be",
   "metadata": {},
   "source": [
    "#### Evaluate on 10 games"
   ]
  },
  {
   "cell_type": "code",
   "execution_count": null,
   "id": "3fcb83e0",
   "metadata": {},
   "outputs": [],
   "source": [
    "evaluate_policy(model, env, n_eval_episodes=10, render=True)\n",
    "# Output with 100 000 timesteps : (7.5, 2.247220505424423)\n",
    "# Output with 500 000 timesteps : (10.9, 3.2388269481403293)\n",
    "# Output with 800 000 timesteps : (14.2, 4.833218389437829)\n",
    "# Output with 1 000 000 timesteps : (16.7, 5.883026432033091)\n",
    "# Output with 2 000 000 timesteps : (20.3, 9.17660067781093)\n",
    "# Output with 3 000 000 timesteps : (17.9, 7.542545989253232)\n",
    "# Output with 4 000 000 timesteps : (21.2, 6.615134163416491)"
   ]
  },
  {
   "cell_type": "markdown",
   "id": "eeefa6e2",
   "metadata": {},
   "source": [
    "#### Evaluate on 50 games"
   ]
  },
  {
   "cell_type": "code",
   "execution_count": null,
   "id": "52e1988e",
   "metadata": {},
   "outputs": [],
   "source": [
    "evaluate_policy(model, env, n_eval_episodes=50, render=True)\n",
    "# Output with 100 000 timesteps : (7.64, 2.5981531902487967)\n",
    "# Output with 500 000 timesteps : (10.82, 2.8683793333518497)\n",
    "# Output with 800 000 timesteps : (16.44, 7.797845856388801)\n",
    "# Output with 1 000 000 timesteps : (15.74, 5.712477571071942)\n",
    "# Output with 2 000 000 timesteps : (19.56, 8.549058427686642)\n",
    "# Output with 3 000 000 timesteps : (20.46, 8.66304796246679)\n",
    "# Output with 4 000 000 timesteps : (17.88, 6.819501448053223)"
   ]
  },
  {
   "cell_type": "markdown",
   "id": "bd8e947a",
   "metadata": {},
   "source": [
    "#### Evaluate on 100 games"
   ]
  },
  {
   "cell_type": "code",
   "execution_count": null,
   "id": "d37a2588",
   "metadata": {},
   "outputs": [],
   "source": [
    "evaluate_policy(model, env, n_eval_episodes=100, render=True)\n",
    "# Output with 100 000 timesteps : (7.07, 2.0555048041782826)\n",
    "# Output with 500 000 timesteps : (10.66, 3.6829879174387745)\n",
    "# Output with 800 000 timesteps : (16.13, 7.400885082204695)\n",
    "# Output with 1 000 000 timesteps : (16.44, 6.2214467770768564)\n",
    "# Output with 2 000 000 timesteps : (17.88, 7.303807226371737)\n",
    "# Output with 3 000 000 timesteps : (19.99, 8.09875916421769)\n",
    "# Output with 4 000 000 timesteps : (20.59, 8.037530715337889)"
   ]
  },
  {
   "cell_type": "markdown",
   "id": "605f85eb",
   "metadata": {},
   "source": [
    "# Make a GIF"
   ]
  },
  {
   "cell_type": "code",
   "execution_count": null,
   "id": "e8a95ea9",
   "metadata": {},
   "outputs": [],
   "source": [
    "import imageio\n",
    "import numpy as np"
   ]
  },
  {
   "cell_type": "code",
   "execution_count": null,
   "id": "bc42bb56",
   "metadata": {},
   "outputs": [],
   "source": [
    "gif_env = make_atari_env('Breakout-v0', seed=0)\n",
    "gif_env = VecFrameStack(gif_env, n_stack=4)"
   ]
  },
  {
   "cell_type": "code",
   "execution_count": null,
   "id": "0f3c5e56",
   "metadata": {},
   "outputs": [],
   "source": [
    "gif_model = A2C.load(a2c_path, gif_env)"
   ]
  },
  {
   "cell_type": "code",
   "execution_count": null,
   "id": "2a0f6690",
   "metadata": {},
   "outputs": [],
   "source": [
    "images = []\n",
    "obs = gif_env.reset()\n",
    "img = gif_env.render(mode='rgb_array')\n",
    "\n",
    "for i in range(350):\n",
    "    images.append(img)\n",
    "    action, _ = gif_model.predict(obs)\n",
    "    obs, _, _, _ = gif_env.step(action)\n",
    "    img = gif_env.render(mode='rgb_array')\n",
    "\n",
    "imageio.mimsave('breakout11.gif',\n",
    "                [np.array(img) for i, img in enumerate(images) if i % 2 == 0],\n",
    "                fps=29)\n",
    "gif_env.close()"
   ]
  }
 ],
 "metadata": {
  "kernelspec": {
   "display_name": "Python 3 (ipykernel)",
   "language": "python",
   "name": "python3"
  },
  "language_info": {
   "codemirror_mode": {
    "name": "ipython",
    "version": 3
   },
   "file_extension": ".py",
   "mimetype": "text/x-python",
   "name": "python",
   "nbconvert_exporter": "python",
   "pygments_lexer": "ipython3",
   "version": "3.8.0"
  }
 },
 "nbformat": 4,
 "nbformat_minor": 5
}
