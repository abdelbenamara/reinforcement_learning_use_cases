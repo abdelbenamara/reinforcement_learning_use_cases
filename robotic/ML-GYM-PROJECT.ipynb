{
 "cells": [
  {
   "cell_type": "markdown",
   "id": "f28a4542",
   "metadata": {},
   "source": [
    "# ROBOTIC\n",
    "\n",
    "Using stable_baselines3 for robotic use case\n"
   ]
  },
  {
   "cell_type": "markdown",
   "id": "5017657f",
   "metadata": {},
   "source": [
    "### pip install\n",
    "\n",
    "Installing gym and panda-gym."
   ]
  },
  {
   "cell_type": "code",
   "execution_count": 6,
   "id": "ffed3cca",
   "metadata": {
    "scrolled": true
   },
   "outputs": [
    {
     "name": "stdout",
     "output_type": "stream",
     "text": [
      "Requirement already satisfied: gym in /home/david_ekchajzer/.local/lib/python3.8/site-packages (0.21.0)\n",
      "Requirement already satisfied: numpy>=1.18.0 in /home/david_ekchajzer/.local/lib/python3.8/site-packages (from gym) (1.18.5)\n",
      "Requirement already satisfied: cloudpickle>=1.2.0 in /home/david_ekchajzer/.local/lib/python3.8/site-packages (from gym) (2.0.0)\n",
      "Processing /home/david_ekchajzer/.cache/pip/wheels/b3/6c/4b/cf1a6c9b28148410d3edb448f2e680c262da3ecca6ceaf4fd0/panda_gym-2.0.1-py3-none-any.whl\n",
      "Requirement already satisfied: scipy in /home/david_ekchajzer/.local/lib/python3.8/site-packages (from panda-gym) (1.8.0)\n",
      "Requirement already satisfied: numpy in /home/david_ekchajzer/.local/lib/python3.8/site-packages (from panda-gym) (1.18.5)\n",
      "Requirement already satisfied: gym in /home/david_ekchajzer/.local/lib/python3.8/site-packages (from panda-gym) (0.21.0)\n",
      "Requirement already satisfied: gym-robotics in /home/david_ekchajzer/.local/lib/python3.8/site-packages (from panda-gym) (0.1.0)\n",
      "Requirement already satisfied: pybullet in /home/david_ekchajzer/.local/lib/python3.8/site-packages (from panda-gym) (3.2.4)\n",
      "Requirement already satisfied: cloudpickle>=1.2.0 in /home/david_ekchajzer/.local/lib/python3.8/site-packages (from gym->panda-gym) (2.0.0)\n",
      "Installing collected packages: panda-gym\n",
      "Successfully installed panda-gym-2.0.1\n",
      "Requirement already satisfied: stable_baselines3 in /home/david_ekchajzer/.local/lib/python3.8/site-packages (1.5.0)\n",
      "Requirement already satisfied: cloudpickle in /home/david_ekchajzer/.local/lib/python3.8/site-packages (from stable_baselines3) (2.0.0)\n",
      "Requirement already satisfied: gym==0.21 in /home/david_ekchajzer/.local/lib/python3.8/site-packages (from stable_baselines3) (0.21.0)\n",
      "Requirement already satisfied: pandas in /home/david_ekchajzer/.local/lib/python3.8/site-packages (from stable_baselines3) (1.4.2)\n",
      "Requirement already satisfied: matplotlib in /home/david_ekchajzer/.local/lib/python3.8/site-packages (from stable_baselines3) (3.5.1)\n",
      "Requirement already satisfied: numpy in /home/david_ekchajzer/.local/lib/python3.8/site-packages (from stable_baselines3) (1.18.5)\n",
      "Requirement already satisfied: torch>=1.8.1 in /home/david_ekchajzer/.local/lib/python3.8/site-packages (from stable_baselines3) (1.11.0)\n",
      "Requirement already satisfied: python-dateutil>=2.8.1 in /home/david_ekchajzer/.local/lib/python3.8/site-packages (from pandas->stable_baselines3) (2.8.2)\n",
      "Requirement already satisfied: pytz>=2020.1 in /home/david_ekchajzer/.local/lib/python3.8/site-packages (from pandas->stable_baselines3) (2022.1)\n",
      "Requirement already satisfied: kiwisolver>=1.0.1 in /home/david_ekchajzer/.local/lib/python3.8/site-packages (from matplotlib->stable_baselines3) (1.4.2)\n",
      "Requirement already satisfied: pyparsing>=2.2.1 in /home/david_ekchajzer/.local/lib/python3.8/site-packages (from matplotlib->stable_baselines3) (3.0.7)\n",
      "Requirement already satisfied: pillow>=6.2.0 in /home/david_ekchajzer/.local/lib/python3.8/site-packages (from matplotlib->stable_baselines3) (9.1.0)\n",
      "Requirement already satisfied: cycler>=0.10 in /home/david_ekchajzer/.local/lib/python3.8/site-packages (from matplotlib->stable_baselines3) (0.11.0)\n",
      "Requirement already satisfied: packaging>=20.0 in /home/david_ekchajzer/.local/lib/python3.8/site-packages (from matplotlib->stable_baselines3) (21.3)\n",
      "Requirement already satisfied: fonttools>=4.22.0 in /home/david_ekchajzer/.local/lib/python3.8/site-packages (from matplotlib->stable_baselines3) (4.33.3)\n",
      "Requirement already satisfied: typing-extensions in /usr/local/lib/python3.8/dist-packages (from torch>=1.8.1->stable_baselines3) (4.0.1)\n",
      "Requirement already satisfied: six>=1.5 in /usr/lib/python3/dist-packages (from python-dateutil>=2.8.1->pandas->stable_baselines3) (1.14.0)\n",
      "Requirement already satisfied: tensorboard in /home/david_ekchajzer/.local/lib/python3.8/site-packages (2.8.0)\n",
      "Requirement already satisfied: grpcio>=1.24.3 in /home/david_ekchajzer/.local/lib/python3.8/site-packages (from tensorboard) (1.43.0)\n",
      "Requirement already satisfied: markdown>=2.6.8 in /home/david_ekchajzer/.local/lib/python3.8/site-packages (from tensorboard) (3.3.6)\n",
      "Requirement already satisfied: setuptools>=41.0.0 in /usr/lib/python3/dist-packages (from tensorboard) (45.2.0)\n",
      "Requirement already satisfied: google-auth<3,>=1.6.3 in /home/david_ekchajzer/.local/lib/python3.8/site-packages (from tensorboard) (2.6.0)\n",
      "Requirement already satisfied: numpy>=1.12.0 in /home/david_ekchajzer/.local/lib/python3.8/site-packages (from tensorboard) (1.18.5)\n",
      "Requirement already satisfied: wheel>=0.26 in /usr/lib/python3/dist-packages (from tensorboard) (0.34.2)\n",
      "Requirement already satisfied: absl-py>=0.4 in /home/david_ekchajzer/.local/lib/python3.8/site-packages (from tensorboard) (1.0.0)\n",
      "Requirement already satisfied: tensorboard-plugin-wit>=1.6.0 in /home/david_ekchajzer/.local/lib/python3.8/site-packages (from tensorboard) (1.8.1)\n",
      "Requirement already satisfied: google-auth-oauthlib<0.5,>=0.4.1 in /home/david_ekchajzer/.local/lib/python3.8/site-packages (from tensorboard) (0.4.6)\n",
      "Requirement already satisfied: protobuf>=3.6.0 in /home/david_ekchajzer/.local/lib/python3.8/site-packages (from tensorboard) (3.19.4)\n",
      "Requirement already satisfied: requests<3,>=2.21.0 in /usr/lib/python3/dist-packages (from tensorboard) (2.22.0)\n",
      "Requirement already satisfied: werkzeug>=0.11.15 in /home/david_ekchajzer/.local/lib/python3.8/site-packages (from tensorboard) (2.0.3)\n",
      "Requirement already satisfied: tensorboard-data-server<0.7.0,>=0.6.0 in /home/david_ekchajzer/.local/lib/python3.8/site-packages (from tensorboard) (0.6.1)\n",
      "Requirement already satisfied: six>=1.5.2 in /usr/lib/python3/dist-packages (from grpcio>=1.24.3->tensorboard) (1.14.0)\n",
      "Requirement already satisfied: importlib-metadata>=4.4; python_version < \"3.10\" in /home/david_ekchajzer/.local/lib/python3.8/site-packages (from markdown>=2.6.8->tensorboard) (4.10.1)\n",
      "Requirement already satisfied: cachetools<6.0,>=2.0.0 in /home/david_ekchajzer/.local/lib/python3.8/site-packages (from google-auth<3,>=1.6.3->tensorboard) (5.0.0)\n",
      "Requirement already satisfied: pyasn1-modules>=0.2.1 in /home/david_ekchajzer/.local/lib/python3.8/site-packages (from google-auth<3,>=1.6.3->tensorboard) (0.2.8)\n",
      "Requirement already satisfied: rsa<5,>=3.1.4; python_version >= \"3.6\" in /home/david_ekchajzer/.local/lib/python3.8/site-packages (from google-auth<3,>=1.6.3->tensorboard) (4.8)\n",
      "Requirement already satisfied: requests-oauthlib>=0.7.0 in /home/david_ekchajzer/.local/lib/python3.8/site-packages (from google-auth-oauthlib<0.5,>=0.4.1->tensorboard) (1.3.1)\n",
      "Requirement already satisfied: zipp>=0.5 in /home/david_ekchajzer/.local/lib/python3.8/site-packages (from importlib-metadata>=4.4; python_version < \"3.10\"->markdown>=2.6.8->tensorboard) (3.7.0)\n",
      "Requirement already satisfied: pyasn1<0.5.0,>=0.4.6 in /home/david_ekchajzer/.local/lib/python3.8/site-packages (from pyasn1-modules>=0.2.1->google-auth<3,>=1.6.3->tensorboard) (0.4.8)\n",
      "Requirement already satisfied: oauthlib>=3.0.0 in /usr/lib/python3/dist-packages (from requests-oauthlib>=0.7.0->google-auth-oauthlib<0.5,>=0.4.1->tensorboard) (3.1.0)\n"
     ]
    }
   ],
   "source": [
    "!pip install gym\n",
    "!pip install panda-gym\n",
    "!pip install stable_baselines3\n",
    "!pip install tensorboard"
   ]
  },
  {
   "cell_type": "markdown",
   "id": "aa030acc",
   "metadata": {},
   "source": [
    "### import\n",
    "\n",
    "Importing gym and panda-gym."
   ]
  },
  {
   "cell_type": "code",
   "execution_count": 7,
   "id": "7ec69ca9",
   "metadata": {},
   "outputs": [],
   "source": [
    "import gym\n",
    "import panda_gym\n",
    "import stable_baselines3\n",
    "from stable_baselines3.common.logger import configure\n",
    "from stable_baselines3.common.callbacks import CallbackList, CheckpointCallback, EvalCallback\n",
    "from stable_baselines3 import HerReplayBuffer, DDPG"
   ]
  },
  {
   "cell_type": "markdown",
   "id": "c5dda8f9",
   "metadata": {},
   "source": [
    "## Testing the environnment"
   ]
  },
  {
   "cell_type": "code",
   "execution_count": 8,
   "id": "0c35f608",
   "metadata": {
    "scrolled": true
   },
   "outputs": [
    {
     "name": "stderr",
     "output_type": "stream",
     "text": [
      "pybullet build time: Apr 26 2022 03:12:14\n"
     ]
    }
   ],
   "source": [
    "env = gym.make('PandaPush-v2', render=True)\n",
    "\n",
    "obs = env.reset()\n",
    "done = False\n",
    "while not done:\n",
    "    action = env.action_space.sample() # random action\n",
    "    obs, reward, done, info = env.step(action)\n",
    "\n",
    "env.close()"
   ]
  },
  {
   "cell_type": "markdown",
   "id": "9820e680",
   "metadata": {},
   "source": [
    "### Setting up model\n",
    "Hyper-parameter from https://github.com/DLR-RM/rl-baselines3-zoo/blob/master/hyperparams/her.yml"
   ]
  },
  {
   "cell_type": "code",
   "execution_count": 3,
   "id": "6b8dbf79",
   "metadata": {
    "scrolled": true
   },
   "outputs": [
    {
     "name": "stdout",
     "output_type": "stream",
     "text": [
      "Using cpu device\n",
      "Wrapping the env with a `Monitor` wrapper\n",
      "Wrapping the env in a DummyVecEnv.\n"
     ]
    }
   ],
   "source": [
    "env = gym.make(\"PandaPush-v2\")\n",
    "model = DDPG('MultiInputPolicy', env, replay_buffer_class=HerReplayBuffer, replay_buffer_kwargs=dict(\n",
    "        n_sampled_goal=4,\n",
    "        goal_selection_strategy='future',\n",
    "        online_sampling=True,\n",
    "    ), buffer_size = 1000000, tau = 0.05, learning_rate = 1e-3, verbose=1, batch_size = 2048, gamma = 0.95, policy_kwargs = dict(n_critics=2, net_arch=[512, 512, 512]))\n",
    "\n",
    "model.save(\"PandaPush-v2-DDPG\")"
   ]
  },
  {
   "cell_type": "markdown",
   "id": "af5982d6",
   "metadata": {},
   "source": [
    "### Training the model"
   ]
  },
  {
   "cell_type": "code",
   "execution_count": null,
   "id": "a440e2cf",
   "metadata": {},
   "outputs": [
    {
     "name": "stderr",
     "output_type": "stream",
     "text": [
      "2022-05-03 09:50:21.355032: W tensorflow/stream_executor/platform/default/dso_loader.cc:59] Could not load dynamic library 'libcudart.so.10.1'; dlerror: libcudart.so.10.1: cannot open shared object file: No such file or directory; LD_LIBRARY_PATH: /home/david_ekchajzer/.local/lib/python3.8/site-packages/cv2/../../lib64::/home/david_ekchajzer/.mujoco/mujoco210/bin\n",
      "2022-05-03 09:50:21.355175: I tensorflow/stream_executor/cuda/cudart_stub.cc:29] Ignore above cudart dlerror if you do not have a GPU set up on your machine.\n"
     ]
    },
    {
     "name": "stdout",
     "output_type": "stream",
     "text": [
      "Logging to /tmp/sb3_log/\n",
      "Using cpu device\n",
      "Wrapping the env with a `Monitor` wrapper\n",
      "Wrapping the env in a DummyVecEnv.\n"
     ]
    }
   ],
   "source": [
    "tmp_path = \"/tmp/sb3_log/\"\n",
    "new_logger = configure(tmp_path, [\"stdout\", \"csv\", \"tensorboard\"])\n",
    "\n",
    "env = gym.make(\"PandaPush-v2\")\n",
    "model = DDPG('MultiInputPolicy', env, replay_buffer_class=HerReplayBuffer, replay_buffer_kwargs=dict(\n",
    "        n_sampled_goal=4,\n",
    "        goal_selection_strategy='future',\n",
    "        online_sampling=True,\n",
    "    ), buffer_size = 1000000, tau = 0.05, learning_rate = 1e-3, verbose=1, batch_size = 2048, gamma = 0.95, policy_kwargs = dict(n_critics=2, net_arch=[512, 512, 512]))\n",
    "\n",
    "\n",
    "model.set_parameters(\"PandaPush-v2-DDPG\")\n",
    "\n",
    "model.set_logger(new_logger)\n",
    "\n",
    "checkpoint_callback = CheckpointCallback(save_freq=125_000, \n",
    "                                         save_path='.', \n",
    "                                         name_prefix='PandaPush-v2')\n",
    "\n",
    "eval_callback = EvalCallback(env, \n",
    "                             best_model_save_path='eval_save', \n",
    "                             eval_freq=12_500)\n",
    "\n",
    "callback_list = CallbackList([checkpoint_callback, eval_callback])\n",
    "\n",
    "model.learn(total_timesteps=int(1e7), \n",
    "            callback=callback_list, \n",
    "            log_interval=100, \n",
    "            tb_log_name='logs_robotics_PandaPush')"
   ]
  },
  {
   "cell_type": "markdown",
   "id": "a389223a",
   "metadata": {},
   "source": [
    "### Saving and cleaning the environnment"
   ]
  },
  {
   "cell_type": "code",
   "execution_count": 2,
   "id": "057a6505",
   "metadata": {},
   "outputs": [
    {
     "ename": "NameError",
     "evalue": "name 'model' is not defined",
     "output_type": "error",
     "traceback": [
      "\u001b[0;31m---------------------------------------------------------------------------\u001b[0m",
      "\u001b[0;31mNameError\u001b[0m                                 Traceback (most recent call last)",
      "\u001b[0;32m<ipython-input-2-1c291dfb2758>\u001b[0m in \u001b[0;36m<module>\u001b[0;34m\u001b[0m\n\u001b[0;32m----> 1\u001b[0;31m \u001b[0mmodel\u001b[0m\u001b[0;34m.\u001b[0m\u001b[0msave\u001b[0m\u001b[0;34m(\u001b[0m\u001b[0;34m\"PandaPush-v2-DDPG\"\u001b[0m\u001b[0;34m)\u001b[0m\u001b[0;34m\u001b[0m\u001b[0;34m\u001b[0m\u001b[0m\n\u001b[0m\u001b[1;32m      2\u001b[0m \u001b[0;34m\u001b[0m\u001b[0m\n\u001b[1;32m      3\u001b[0m \u001b[0;32mdel\u001b[0m \u001b[0mmodel\u001b[0m\u001b[0;34m\u001b[0m\u001b[0;34m\u001b[0m\u001b[0m\n\u001b[1;32m      4\u001b[0m \u001b[0;32mdel\u001b[0m \u001b[0menv\u001b[0m\u001b[0;34m\u001b[0m\u001b[0;34m\u001b[0m\u001b[0m\n",
      "\u001b[0;31mNameError\u001b[0m: name 'model' is not defined"
     ]
    }
   ],
   "source": [
    "model.save(\"PandaPush-v2-DDPG\")\n",
    "\n",
    "del model\n",
    "del env"
   ]
  },
  {
   "cell_type": "markdown",
   "id": "48f3b624",
   "metadata": {},
   "source": [
    "### Testing the environnment"
   ]
  },
  {
   "cell_type": "code",
   "execution_count": null,
   "id": "7f46e06b",
   "metadata": {},
   "outputs": [],
   "source": [
    "import gym\n",
    "import panda_gym\n",
    "from stable_baselines3 import DDPG\n",
    "from stable_baselines3.common.logger import configure\n",
    "\n",
    "env = gym.make(\"PandaPush-v2\", render=True)\n",
    "model = DDPG.load(\"PandaPush-v2-DDPG\", env=env)\n",
    "obs = env.reset()\n",
    "dones = False\n",
    "\n",
    "while not dones:\n",
    "    action, _states = model.predict(obs)\n",
    "    obs, rewards, dones, info = env.step(action)\n",
    "    env.render()"
   ]
  },
  {
   "cell_type": "markdown",
   "id": "9d2a196a",
   "metadata": {},
   "source": [
    "### installing sb3-contrib"
   ]
  },
  {
   "cell_type": "code",
   "execution_count": 1,
   "id": "52a34262",
   "metadata": {},
   "outputs": [
    {
     "name": "stdout",
     "output_type": "stream",
     "text": [
      "Collecting sb3-contrib\n",
      "  Downloading sb3_contrib-1.5.0-py3-none-any.whl (62 kB)\n",
      "\u001b[K     |████████████████████████████████| 62 kB 1.5 MB/s eta 0:00:011\n",
      "\u001b[?25hRequirement already satisfied: stable-baselines3>=1.5.0 in /home/da-ekchajzer/.local/lib/python3.8/site-packages (from sb3-contrib) (1.5.0)\n",
      "Requirement already satisfied: pandas in /home/da-ekchajzer/.local/lib/python3.8/site-packages (from stable-baselines3>=1.5.0->sb3-contrib) (1.4.2)\n",
      "Requirement already satisfied: gym==0.21 in /home/da-ekchajzer/.local/lib/python3.8/site-packages (from stable-baselines3>=1.5.0->sb3-contrib) (0.21.0)\n",
      "Requirement already satisfied: torch>=1.8.1 in /home/da-ekchajzer/.local/lib/python3.8/site-packages (from stable-baselines3>=1.5.0->sb3-contrib) (1.11.0)\n",
      "Requirement already satisfied: numpy in /home/da-ekchajzer/.local/lib/python3.8/site-packages (from stable-baselines3>=1.5.0->sb3-contrib) (1.22.3)\n",
      "Requirement already satisfied: matplotlib in /home/da-ekchajzer/.local/lib/python3.8/site-packages (from stable-baselines3>=1.5.0->sb3-contrib) (3.5.1)\n",
      "Requirement already satisfied: cloudpickle in /home/da-ekchajzer/.local/lib/python3.8/site-packages (from stable-baselines3>=1.5.0->sb3-contrib) (2.0.0)\n",
      "Requirement already satisfied: pytz>=2020.1 in /home/da-ekchajzer/.local/lib/python3.8/site-packages (from pandas->stable-baselines3>=1.5.0->sb3-contrib) (2022.1)\n",
      "Requirement already satisfied: python-dateutil>=2.8.1 in /home/da-ekchajzer/.local/lib/python3.8/site-packages (from pandas->stable-baselines3>=1.5.0->sb3-contrib) (2.8.2)\n",
      "Requirement already satisfied: typing-extensions in /home/da-ekchajzer/.local/lib/python3.8/site-packages (from torch>=1.8.1->stable-baselines3>=1.5.0->sb3-contrib) (4.2.0)\n",
      "Requirement already satisfied: cycler>=0.10 in /home/da-ekchajzer/.local/lib/python3.8/site-packages (from matplotlib->stable-baselines3>=1.5.0->sb3-contrib) (0.11.0)\n",
      "Requirement already satisfied: fonttools>=4.22.0 in /home/da-ekchajzer/.local/lib/python3.8/site-packages (from matplotlib->stable-baselines3>=1.5.0->sb3-contrib) (4.33.3)\n",
      "Requirement already satisfied: pyparsing>=2.2.1 in /home/da-ekchajzer/.local/lib/python3.8/site-packages (from matplotlib->stable-baselines3>=1.5.0->sb3-contrib) (3.0.8)\n",
      "Requirement already satisfied: pillow>=6.2.0 in /usr/lib/python3/dist-packages (from matplotlib->stable-baselines3>=1.5.0->sb3-contrib) (7.0.0)\n",
      "Requirement already satisfied: packaging>=20.0 in /home/da-ekchajzer/.local/lib/python3.8/site-packages (from matplotlib->stable-baselines3>=1.5.0->sb3-contrib) (21.3)\n",
      "Requirement already satisfied: kiwisolver>=1.0.1 in /home/da-ekchajzer/.local/lib/python3.8/site-packages (from matplotlib->stable-baselines3>=1.5.0->sb3-contrib) (1.4.2)\n",
      "Requirement already satisfied: six>=1.5 in /usr/lib/python3/dist-packages (from python-dateutil>=2.8.1->pandas->stable-baselines3>=1.5.0->sb3-contrib) (1.14.0)\n",
      "Installing collected packages: sb3-contrib\n",
      "Successfully installed sb3-contrib-1.5.0\n"
     ]
    }
   ],
   "source": [
    "!pip install sb3-contrib"
   ]
  },
  {
   "cell_type": "markdown",
   "id": "7b1e1cb3",
   "metadata": {},
   "source": [
    "### Testing community trained model"
   ]
  },
  {
   "cell_type": "code",
   "execution_count": 1,
   "id": "e2103ac9",
   "metadata": {},
   "outputs": [
    {
     "ename": "DeprecatedEnv",
     "evalue": "Env PandaPush-v1 not found (valid versions include ['PandaPush-v2'])",
     "output_type": "error",
     "traceback": [
      "\u001b[0;31m---------------------------------------------------------------------------\u001b[0m",
      "\u001b[0;31mKeyError\u001b[0m                                  Traceback (most recent call last)",
      "\u001b[0;32m~/.local/lib/python3.8/site-packages/gym/envs/registration.py\u001b[0m in \u001b[0;36mspec\u001b[0;34m(self, path)\u001b[0m\n\u001b[1;32m    157\u001b[0m         \u001b[0;32mtry\u001b[0m\u001b[0;34m:\u001b[0m\u001b[0;34m\u001b[0m\u001b[0;34m\u001b[0m\u001b[0m\n\u001b[0;32m--> 158\u001b[0;31m             \u001b[0;32mreturn\u001b[0m \u001b[0mself\u001b[0m\u001b[0;34m.\u001b[0m\u001b[0menv_specs\u001b[0m\u001b[0;34m[\u001b[0m\u001b[0mid\u001b[0m\u001b[0;34m]\u001b[0m\u001b[0;34m\u001b[0m\u001b[0;34m\u001b[0m\u001b[0m\n\u001b[0m\u001b[1;32m    159\u001b[0m         \u001b[0;32mexcept\u001b[0m \u001b[0mKeyError\u001b[0m\u001b[0;34m:\u001b[0m\u001b[0;34m\u001b[0m\u001b[0;34m\u001b[0m\u001b[0m\n",
      "\u001b[0;31mKeyError\u001b[0m: 'PandaPush-v1'",
      "\nDuring handling of the above exception, another exception occurred:\n",
      "\u001b[0;31mDeprecatedEnv\u001b[0m                             Traceback (most recent call last)",
      "\u001b[0;32m<ipython-input-1-9740f1a3a1ca>\u001b[0m in \u001b[0;36m<module>\u001b[0;34m\u001b[0m\n\u001b[1;32m      4\u001b[0m \u001b[0;32mfrom\u001b[0m \u001b[0mstable_baselines3\u001b[0m\u001b[0;34m.\u001b[0m\u001b[0mcommon\u001b[0m\u001b[0;34m.\u001b[0m\u001b[0mlogger\u001b[0m \u001b[0;32mimport\u001b[0m \u001b[0mconfigure\u001b[0m\u001b[0;34m\u001b[0m\u001b[0;34m\u001b[0m\u001b[0m\n\u001b[1;32m      5\u001b[0m \u001b[0;34m\u001b[0m\u001b[0m\n\u001b[0;32m----> 6\u001b[0;31m \u001b[0menv\u001b[0m \u001b[0;34m=\u001b[0m \u001b[0mgym\u001b[0m\u001b[0;34m.\u001b[0m\u001b[0mmake\u001b[0m\u001b[0;34m(\u001b[0m\u001b[0;34m\"PandaPush-v1\"\u001b[0m\u001b[0;34m,\u001b[0m \u001b[0mrender\u001b[0m\u001b[0;34m=\u001b[0m\u001b[0;32mTrue\u001b[0m\u001b[0;34m)\u001b[0m\u001b[0;34m\u001b[0m\u001b[0;34m\u001b[0m\u001b[0m\n\u001b[0m\u001b[1;32m      7\u001b[0m \u001b[0mmodel\u001b[0m \u001b[0;34m=\u001b[0m \u001b[0mTQC\u001b[0m\u001b[0;34m.\u001b[0m\u001b[0mload\u001b[0m\u001b[0;34m(\u001b[0m\u001b[0;34m\"FetchPush-v1-rl-trained-agents\"\u001b[0m\u001b[0;34m,\u001b[0m \u001b[0menv\u001b[0m\u001b[0;34m=\u001b[0m\u001b[0menv\u001b[0m\u001b[0;34m)\u001b[0m\u001b[0;34m\u001b[0m\u001b[0;34m\u001b[0m\u001b[0m\n\u001b[1;32m      8\u001b[0m \u001b[0mobs\u001b[0m \u001b[0;34m=\u001b[0m \u001b[0menv\u001b[0m\u001b[0;34m.\u001b[0m\u001b[0mreset\u001b[0m\u001b[0;34m(\u001b[0m\u001b[0;34m)\u001b[0m\u001b[0;34m\u001b[0m\u001b[0;34m\u001b[0m\u001b[0m\n",
      "\u001b[0;32m~/.local/lib/python3.8/site-packages/gym/envs/registration.py\u001b[0m in \u001b[0;36mmake\u001b[0;34m(id, **kwargs)\u001b[0m\n\u001b[1;32m    233\u001b[0m \u001b[0;34m\u001b[0m\u001b[0m\n\u001b[1;32m    234\u001b[0m \u001b[0;32mdef\u001b[0m \u001b[0mmake\u001b[0m\u001b[0;34m(\u001b[0m\u001b[0mid\u001b[0m\u001b[0;34m,\u001b[0m \u001b[0;34m**\u001b[0m\u001b[0mkwargs\u001b[0m\u001b[0;34m)\u001b[0m\u001b[0;34m:\u001b[0m\u001b[0;34m\u001b[0m\u001b[0;34m\u001b[0m\u001b[0m\n\u001b[0;32m--> 235\u001b[0;31m     \u001b[0;32mreturn\u001b[0m \u001b[0mregistry\u001b[0m\u001b[0;34m.\u001b[0m\u001b[0mmake\u001b[0m\u001b[0;34m(\u001b[0m\u001b[0mid\u001b[0m\u001b[0;34m,\u001b[0m \u001b[0;34m**\u001b[0m\u001b[0mkwargs\u001b[0m\u001b[0;34m)\u001b[0m\u001b[0;34m\u001b[0m\u001b[0;34m\u001b[0m\u001b[0m\n\u001b[0m\u001b[1;32m    236\u001b[0m \u001b[0;34m\u001b[0m\u001b[0m\n\u001b[1;32m    237\u001b[0m \u001b[0;34m\u001b[0m\u001b[0m\n",
      "\u001b[0;32m~/.local/lib/python3.8/site-packages/gym/envs/registration.py\u001b[0m in \u001b[0;36mmake\u001b[0;34m(self, path, **kwargs)\u001b[0m\n\u001b[1;32m    126\u001b[0m         \u001b[0;32melse\u001b[0m\u001b[0;34m:\u001b[0m\u001b[0;34m\u001b[0m\u001b[0;34m\u001b[0m\u001b[0m\n\u001b[1;32m    127\u001b[0m             \u001b[0mlogger\u001b[0m\u001b[0;34m.\u001b[0m\u001b[0minfo\u001b[0m\u001b[0;34m(\u001b[0m\u001b[0;34m\"Making new env: %s\"\u001b[0m\u001b[0;34m,\u001b[0m \u001b[0mpath\u001b[0m\u001b[0;34m)\u001b[0m\u001b[0;34m\u001b[0m\u001b[0;34m\u001b[0m\u001b[0m\n\u001b[0;32m--> 128\u001b[0;31m         \u001b[0mspec\u001b[0m \u001b[0;34m=\u001b[0m \u001b[0mself\u001b[0m\u001b[0;34m.\u001b[0m\u001b[0mspec\u001b[0m\u001b[0;34m(\u001b[0m\u001b[0mpath\u001b[0m\u001b[0;34m)\u001b[0m\u001b[0;34m\u001b[0m\u001b[0;34m\u001b[0m\u001b[0m\n\u001b[0m\u001b[1;32m    129\u001b[0m         \u001b[0menv\u001b[0m \u001b[0;34m=\u001b[0m \u001b[0mspec\u001b[0m\u001b[0;34m.\u001b[0m\u001b[0mmake\u001b[0m\u001b[0;34m(\u001b[0m\u001b[0;34m**\u001b[0m\u001b[0mkwargs\u001b[0m\u001b[0;34m)\u001b[0m\u001b[0;34m\u001b[0m\u001b[0;34m\u001b[0m\u001b[0m\n\u001b[1;32m    130\u001b[0m         \u001b[0;32mreturn\u001b[0m \u001b[0menv\u001b[0m\u001b[0;34m\u001b[0m\u001b[0;34m\u001b[0m\u001b[0m\n",
      "\u001b[0;32m~/.local/lib/python3.8/site-packages/gym/envs/registration.py\u001b[0m in \u001b[0;36mspec\u001b[0;34m(self, path)\u001b[0m\n\u001b[1;32m    183\u001b[0m             ]\n\u001b[1;32m    184\u001b[0m             \u001b[0;32mif\u001b[0m \u001b[0mmatching_envs\u001b[0m\u001b[0;34m:\u001b[0m\u001b[0;34m\u001b[0m\u001b[0;34m\u001b[0m\u001b[0m\n\u001b[0;32m--> 185\u001b[0;31m                 raise error.DeprecatedEnv(\n\u001b[0m\u001b[1;32m    186\u001b[0m                     \"Env {} not found (valid versions include {})\".format(\n\u001b[1;32m    187\u001b[0m                         \u001b[0mid\u001b[0m\u001b[0;34m,\u001b[0m \u001b[0mmatching_envs\u001b[0m\u001b[0;34m\u001b[0m\u001b[0;34m\u001b[0m\u001b[0m\n",
      "\u001b[0;31mDeprecatedEnv\u001b[0m: Env PandaPush-v1 not found (valid versions include ['PandaPush-v2'])"
     ]
    }
   ],
   "source": [
    "import gym\n",
    "import panda_gym\n",
    "from sb3_contrib import TQC\n",
    "from stable_baselines3.common.logger import configure\n",
    "\n",
    "env = gym.make(\"PandaPush-v2\", render=True)\n",
    "model = TQC.load(\"FetchPush-v1-rl-trained-agents\", env=env)\n",
    "obs = env.reset()\n",
    "dones = False\n",
    "\n",
    "while not dones:\n",
    "    action, _states = model.predict(obs)\n",
    "    obs, rewards, dones, info = env.step(action)\n",
    "    env.render()"
   ]
  },
  {
   "cell_type": "code",
   "execution_count": null,
   "id": "b4b819c9",
   "metadata": {},
   "outputs": [],
   "source": []
  }
 ],
 "metadata": {
  "kernelspec": {
   "display_name": "Python 3 (ipykernel)",
   "language": "python",
   "name": "python3"
  },
  "language_info": {
   "codemirror_mode": {
    "name": "ipython",
    "version": 3
   },
   "file_extension": ".py",
   "mimetype": "text/x-python",
   "name": "python",
   "nbconvert_exporter": "python",
   "pygments_lexer": "ipython3",
   "version": "3.8.10"
  }
 },
 "nbformat": 4,
 "nbformat_minor": 5
}
